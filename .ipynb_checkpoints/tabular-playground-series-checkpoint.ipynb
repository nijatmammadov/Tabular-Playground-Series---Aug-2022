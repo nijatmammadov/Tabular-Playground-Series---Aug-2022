{
 "cells": [
  {
   "cell_type": "code",
   "execution_count": 144,
   "id": "3a4069ae",
   "metadata": {},
   "outputs": [],
   "source": [
    "import pandas as pd\n",
    "import numpy as np\n",
    "import matplotlib.pyplot as plt\n",
    "import seaborn as sns"
   ]
  },
  {
   "cell_type": "code",
   "execution_count": 122,
   "id": "72144fa2",
   "metadata": {},
   "outputs": [],
   "source": [
    "train = pd.read_csv(\"train.csv\")\n",
    "test = pd.read_csv(\"test.csv\")"
   ]
  },
  {
   "cell_type": "code",
   "execution_count": 123,
   "id": "ee943c39",
   "metadata": {},
   "outputs": [
    {
     "name": "stdout",
     "output_type": "stream",
     "text": [
      "<class 'pandas.core.frame.DataFrame'>\n",
      "RangeIndex: 26570 entries, 0 to 26569\n",
      "Data columns (total 26 columns):\n",
      " #   Column          Non-Null Count  Dtype  \n",
      "---  ------          --------------  -----  \n",
      " 0   id              26570 non-null  int64  \n",
      " 1   product_code    26570 non-null  object \n",
      " 2   loading         26320 non-null  float64\n",
      " 3   attribute_0     26570 non-null  object \n",
      " 4   attribute_1     26570 non-null  object \n",
      " 5   attribute_2     26570 non-null  int64  \n",
      " 6   attribute_3     26570 non-null  int64  \n",
      " 7   measurement_0   26570 non-null  int64  \n",
      " 8   measurement_1   26570 non-null  int64  \n",
      " 9   measurement_2   26570 non-null  int64  \n",
      " 10  measurement_3   26189 non-null  float64\n",
      " 11  measurement_4   26032 non-null  float64\n",
      " 12  measurement_5   25894 non-null  float64\n",
      " 13  measurement_6   25774 non-null  float64\n",
      " 14  measurement_7   25633 non-null  float64\n",
      " 15  measurement_8   25522 non-null  float64\n",
      " 16  measurement_9   25343 non-null  float64\n",
      " 17  measurement_10  25270 non-null  float64\n",
      " 18  measurement_11  25102 non-null  float64\n",
      " 19  measurement_12  24969 non-null  float64\n",
      " 20  measurement_13  24796 non-null  float64\n",
      " 21  measurement_14  24696 non-null  float64\n",
      " 22  measurement_15  24561 non-null  float64\n",
      " 23  measurement_16  24460 non-null  float64\n",
      " 24  measurement_17  24286 non-null  float64\n",
      " 25  failure         26570 non-null  int64  \n",
      "dtypes: float64(16), int64(7), object(3)\n",
      "memory usage: 5.3+ MB\n"
     ]
    }
   ],
   "source": [
    "train.info()"
   ]
  },
  {
   "cell_type": "code",
   "execution_count": 124,
   "id": "ecb03ddd",
   "metadata": {},
   "outputs": [
    {
     "name": "stdout",
     "output_type": "stream",
     "text": [
      "<class 'pandas.core.frame.DataFrame'>\n",
      "RangeIndex: 20775 entries, 0 to 20774\n",
      "Data columns (total 25 columns):\n",
      " #   Column          Non-Null Count  Dtype  \n",
      "---  ------          --------------  -----  \n",
      " 0   id              20775 non-null  int64  \n",
      " 1   product_code    20775 non-null  object \n",
      " 2   loading         20552 non-null  float64\n",
      " 3   attribute_0     20775 non-null  object \n",
      " 4   attribute_1     20775 non-null  object \n",
      " 5   attribute_2     20775 non-null  int64  \n",
      " 6   attribute_3     20775 non-null  int64  \n",
      " 7   measurement_0   20775 non-null  int64  \n",
      " 8   measurement_1   20775 non-null  int64  \n",
      " 9   measurement_2   20775 non-null  int64  \n",
      " 10  measurement_3   20446 non-null  float64\n",
      " 11  measurement_4   20366 non-null  float64\n",
      " 12  measurement_5   20267 non-null  float64\n",
      " 13  measurement_6   20151 non-null  float64\n",
      " 14  measurement_7   20055 non-null  float64\n",
      " 15  measurement_8   19929 non-null  float64\n",
      " 16  measurement_9   19871 non-null  float64\n",
      " 17  measurement_10  19708 non-null  float64\n",
      " 18  measurement_11  19639 non-null  float64\n",
      " 19  measurement_12  19535 non-null  float64\n",
      " 20  measurement_13  19472 non-null  float64\n",
      " 21  measurement_14  19335 non-null  float64\n",
      " 22  measurement_15  19233 non-null  float64\n",
      " 23  measurement_16  19097 non-null  float64\n",
      " 24  measurement_17  19035 non-null  float64\n",
      "dtypes: float64(16), int64(6), object(3)\n",
      "memory usage: 4.0+ MB\n"
     ]
    }
   ],
   "source": [
    "test.info()"
   ]
  },
  {
   "cell_type": "code",
   "execution_count": 125,
   "id": "8a6024cb",
   "metadata": {
    "scrolled": true
   },
   "outputs": [
    {
     "data": {
      "text/plain": [
       "(26570, 26)"
      ]
     },
     "execution_count": 125,
     "metadata": {},
     "output_type": "execute_result"
    }
   ],
   "source": [
    "train.shape"
   ]
  },
  {
   "cell_type": "code",
   "execution_count": 126,
   "id": "956c28d6",
   "metadata": {},
   "outputs": [
    {
     "data": {
      "text/plain": [
       "id                   0\n",
       "product_code         0\n",
       "loading            250\n",
       "attribute_0          0\n",
       "attribute_1          0\n",
       "attribute_2          0\n",
       "attribute_3          0\n",
       "measurement_0        0\n",
       "measurement_1        0\n",
       "measurement_2        0\n",
       "measurement_3      381\n",
       "measurement_4      538\n",
       "measurement_5      676\n",
       "measurement_6      796\n",
       "measurement_7      937\n",
       "measurement_8     1048\n",
       "measurement_9     1227\n",
       "measurement_10    1300\n",
       "measurement_11    1468\n",
       "measurement_12    1601\n",
       "measurement_13    1774\n",
       "measurement_14    1874\n",
       "measurement_15    2009\n",
       "measurement_16    2110\n",
       "measurement_17    2284\n",
       "failure              0\n",
       "dtype: int64"
      ]
     },
     "execution_count": 126,
     "metadata": {},
     "output_type": "execute_result"
    }
   ],
   "source": [
    "train.isnull().sum()"
   ]
  },
  {
   "cell_type": "code",
   "execution_count": 127,
   "id": "e4aa227a",
   "metadata": {},
   "outputs": [
    {
     "data": {
      "text/plain": [
       "{int64: ['id', 'attribute_2', 'attribute_3', 'measurement_0', 'measurement_1', 'measurement_2', 'failure'], float64: ['loading', 'measurement_3', 'measurement_4', 'measurement_5', 'measurement_6', 'measurement_7', 'measurement_8', 'measurement_9', 'measurement_10', 'measurement_11', 'measurement_12', 'measurement_13', 'measurement_14', 'measurement_15', 'measurement_16', 'measurement_17'], object: ['product_code', 'attribute_0', 'attribute_1']}"
      ]
     },
     "execution_count": 127,
     "metadata": {},
     "output_type": "execute_result"
    }
   ],
   "source": [
    "train.columns.groupby(train.dtypes)"
   ]
  },
  {
   "cell_type": "code",
   "execution_count": 128,
   "id": "23ec1613",
   "metadata": {},
   "outputs": [],
   "source": [
    "train.drop(['product_code', 'attribute_0', 'attribute_1'],axis = 1,inplace=True)"
   ]
  },
  {
   "cell_type": "code",
   "execution_count": 129,
   "id": "7cc13399",
   "metadata": {},
   "outputs": [
    {
     "data": {
      "text/plain": [
       "{int64: ['id', 'attribute_2', 'attribute_3', 'measurement_0', 'measurement_1', 'measurement_2', 'failure'], float64: ['loading', 'measurement_3', 'measurement_4', 'measurement_5', 'measurement_6', 'measurement_7', 'measurement_8', 'measurement_9', 'measurement_10', 'measurement_11', 'measurement_12', 'measurement_13', 'measurement_14', 'measurement_15', 'measurement_16', 'measurement_17']}"
      ]
     },
     "execution_count": 129,
     "metadata": {},
     "output_type": "execute_result"
    }
   ],
   "source": [
    "train.columns.groupby(train.dtypes)"
   ]
  },
  {
   "cell_type": "code",
   "execution_count": 130,
   "id": "3d700cb8",
   "metadata": {},
   "outputs": [],
   "source": [
    "def fill_na(dataframe):\n",
    "    for i in dataframe.columns:\n",
    "        dataframe[i].fillna(dataframe[i].mean(),inplace = True)\n",
    "        dataframe.drop([\"id\"],axis = 1)\n",
    "    return dataframe"
   ]
  },
  {
   "cell_type": "code",
   "execution_count": 131,
   "id": "e29fc135",
   "metadata": {},
   "outputs": [],
   "source": [
    "train = fill_na(train)"
   ]
  },
  {
   "cell_type": "code",
   "execution_count": 132,
   "id": "4f88c15e",
   "metadata": {},
   "outputs": [
    {
     "data": {
      "text/plain": [
       "id                0\n",
       "loading           0\n",
       "attribute_2       0\n",
       "attribute_3       0\n",
       "measurement_0     0\n",
       "measurement_1     0\n",
       "measurement_2     0\n",
       "measurement_3     0\n",
       "measurement_4     0\n",
       "measurement_5     0\n",
       "measurement_6     0\n",
       "measurement_7     0\n",
       "measurement_8     0\n",
       "measurement_9     0\n",
       "measurement_10    0\n",
       "measurement_11    0\n",
       "measurement_12    0\n",
       "measurement_13    0\n",
       "measurement_14    0\n",
       "measurement_15    0\n",
       "measurement_16    0\n",
       "measurement_17    0\n",
       "failure           0\n",
       "dtype: int64"
      ]
     },
     "execution_count": 132,
     "metadata": {},
     "output_type": "execute_result"
    }
   ],
   "source": [
    "train.isnull().sum()"
   ]
  },
  {
   "cell_type": "code",
   "execution_count": 133,
   "id": "f311334f",
   "metadata": {},
   "outputs": [],
   "source": [
    "y_train = train[\"failure\"]\n",
    "x_train = train.drop([\"failure\"],axis = 1)"
   ]
  },
  {
   "cell_type": "code",
   "execution_count": null,
   "id": "6e54218d",
   "metadata": {},
   "outputs": [],
   "source": []
  },
  {
   "cell_type": "code",
   "execution_count": 134,
   "id": "46d1a897",
   "metadata": {},
   "outputs": [],
   "source": [
    "id = test[\"id\"]"
   ]
  },
  {
   "cell_type": "code",
   "execution_count": 135,
   "id": "9a9e2b17",
   "metadata": {},
   "outputs": [
    {
     "data": {
      "text/plain": [
       "{int64: ['id', 'attribute_2', 'attribute_3', 'measurement_0', 'measurement_1', 'measurement_2'], float64: ['loading', 'measurement_3', 'measurement_4', 'measurement_5', 'measurement_6', 'measurement_7', 'measurement_8', 'measurement_9', 'measurement_10', 'measurement_11', 'measurement_12', 'measurement_13', 'measurement_14', 'measurement_15', 'measurement_16', 'measurement_17'], object: ['product_code', 'attribute_0', 'attribute_1']}"
      ]
     },
     "execution_count": 135,
     "metadata": {},
     "output_type": "execute_result"
    }
   ],
   "source": [
    "test.columns.groupby(test.dtypes)"
   ]
  },
  {
   "cell_type": "code",
   "execution_count": 136,
   "id": "bc945097",
   "metadata": {},
   "outputs": [],
   "source": [
    "test.drop( ['product_code', 'attribute_0', 'attribute_1'],axis = 1,inplace=True)"
   ]
  },
  {
   "cell_type": "code",
   "execution_count": 137,
   "id": "dfdd3a0e",
   "metadata": {},
   "outputs": [
    {
     "data": {
      "text/plain": [
       "True"
      ]
     },
     "execution_count": 137,
     "metadata": {},
     "output_type": "execute_result"
    }
   ],
   "source": [
    "test.isnull().values.any()"
   ]
  },
  {
   "cell_type": "code",
   "execution_count": 138,
   "id": "7da08f4d",
   "metadata": {},
   "outputs": [],
   "source": [
    "test = fill_na(test)"
   ]
  },
  {
   "cell_type": "code",
   "execution_count": 139,
   "id": "dce8f057",
   "metadata": {},
   "outputs": [
    {
     "data": {
      "text/plain": [
       "False"
      ]
     },
     "execution_count": 139,
     "metadata": {},
     "output_type": "execute_result"
    }
   ],
   "source": [
    "test.isnull().values.any()"
   ]
  },
  {
   "cell_type": "code",
   "execution_count": 148,
   "id": "6cf6996a",
   "metadata": {},
   "outputs": [],
   "source": [
    "from sklearn.ensemble import RandomForestClassifier\n",
    "from sklearn.metrics import accuracy_score"
   ]
  },
  {
   "cell_type": "code",
   "execution_count": 149,
   "id": "2f4183de",
   "metadata": {},
   "outputs": [],
   "source": [
    "xgb_model = RandomForestClassifier().fit(x_train,y_train)"
   ]
  },
  {
   "cell_type": "code",
   "execution_count": 150,
   "id": "4538cc3e",
   "metadata": {},
   "outputs": [],
   "source": [
    "y_pred = xgb_model.predict(test)"
   ]
  },
  {
   "cell_type": "code",
   "execution_count": 155,
   "id": "564aeff0",
   "metadata": {},
   "outputs": [
    {
     "data": {
      "text/plain": [
       "array([0, 0, 0, 0, 0, 0, 0, 0, 0, 0], dtype=int64)"
      ]
     },
     "execution_count": 155,
     "metadata": {},
     "output_type": "execute_result"
    }
   ],
   "source": [
    "y_pred[:10]"
   ]
  },
  {
   "cell_type": "code",
   "execution_count": 156,
   "id": "f10d7a5c",
   "metadata": {},
   "outputs": [
    {
     "data": {
      "image/png": "[encoded data removed]",
      "text/plain": [
       "<Figure size 360x360 with 1 Axes>"
      ]
     },
     "metadata": {
      "needs_background": "light"
     },
     "output_type": "display_data"
    }
   ],
   "source": [
    "sns.displot(y_pred);"
   ]
  },
  {
   "cell_type": "code",
   "execution_count": 157,
   "id": "faa3afdd",
   "metadata": {},
   "outputs": [],
   "source": [
    "df = pd.DataFrame({\n",
    "    \"id\": id,\n",
    "    \"failure\": y_pred\n",
    "})"
   ]
  },
  {
   "cell_type": "code",
   "execution_count": 158,
   "id": "f98117a2",
   "metadata": {},
   "outputs": [],
   "source": [
    "df.to_csv(\"sample_submission.csv\",index=True)"
   ]
  },
  {
   "cell_type": "code",
   "execution_count": null,
   "id": "8c75a3ac",
   "metadata": {},
   "outputs": [],
   "source": []
  }
 ],
 "metadata": {
  "kernelspec": {
   "display_name": "Python 3 (ipykernel)",
   "language": "python",
   "name": "python3"
  },
  "language_info": {
   "codemirror_mode": {
    "name": "ipython",
    "version": 3
   },
   "file_extension": ".py",
   "mimetype": "text/x-python",
   "name": "python",
   "nbconvert_exporter": "python",
   "pygments_lexer": "ipython3",
   "version": "3.9.12"
  }
 },
 "nbformat": 4,
 "nbformat_minor": 5
}
